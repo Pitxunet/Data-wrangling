{
 "cells": [
  {
   "cell_type": "markdown",
   "metadata": {},
   "source": [
    "## Reporting: wrangle_report\n"
   ]
  },
  {
   "cell_type": "markdown",
   "metadata": {},
   "source": [
    "After gathering the three datasets and converting them into dataframes I proceeded to assess them.\n",
    "\n",
    "### Assessment\n",
    "\n",
    "First I used commands as .head() or .sample() to have a look at each column, the data in them, the structure of the datasets. Then I tried assessing the datasets programmatically, by either using methods as .info(), .value_counts() or others that could help me deepen my understanding of the issues.\n",
    "\n",
    "I divided the issues in two types: \n",
    "   a) Tidiness issues \n",
    "   b) Quality issues\n",
    "   \n",
    "   \n",
    "### Tidiness issues\n",
    "\n",
    "First, I tried to fix two tidiness issues: \n",
    "   1. Dog stages being in four columns instead of one\n",
    "\n",
    "    Solution -> To fix the first issue I replaced all the 'None' strings by whitespaces and then created a new column called 'dog' stage that summed up the four columns. \n",
    "\n",
    "   2. Creating a single dataframe from the three datasets.\n",
    "\n",
    "    Solution -> In order to merge the three dataframes I used the pd.merge method. I chose to do the merge from the images file side in order to keep only the tweets with images on them.\n",
    "\n",
    "\n",
    "### Quality issues\n",
    "\n",
    "I identified 9 Quality issues:\n",
    "   1. Some rows were retweets or answers to other tweets instead of original content tweets.\n",
    "   \n",
    "    Solution -> I filtered out the rows were the columns 'retweet_status_id' and 'in_reply_to_status_id' hold any values\n",
    "    \n",
    "   \n",
    "   2. Some columns' ('timestamp', 'dog_stage' or 'img_num' among others) data type is not correct.\n",
    "   \n",
    "    Solution -> I used astype method to correct the datatype of the concerned columns at once.\n",
    "\n",
    "\n",
    "   3. There were wrong values in 'name' column, indicating that extraction from the tweets' text hadn't been done correctly.\n",
    "\n",
    "     Solution -> I extracted the names all over again. I ran the extraction and compared the result several times, I tweak the extraction 'regex' until I found the expression that got most of the names correctly.\n",
    "     \n",
    "\n",
    "   4. 'Source' column didn't add value to the dataframe so I decided to drop it.\n",
    "   \n",
    "   \n",
    "   5. I realized in the assessment stage that when none of the image predictions corresponded to a dog the image was of something else. \n",
    "  \n",
    "     Solution ->In order to have a clean dataframe that contain only original tweets about dogs, with images of dogs, I filtered out all the rows where none of the three image predictions corresponded to a dog.\n",
    "\n",
    "\n",
    "   6. I identified 66 duplicated images. Nevertheless, they were filtered out in previous cleaning actions.\n",
    "   \n",
    "   \n",
    "   7. 'Rating_numerator' and 'rating_denominator' contained many wrong values.\n",
    "       \n",
    "     Solution -> I extracted the ratings from the text of the tweets using regex. I run the code and compared the results to the previous existing columns as well as to the text of the tweets themselves to make sure I did the extraction as accurately as possible.\n",
    "\n",
    "\n",
    "   8. Some of the data in columns of the dataframe based in tweets extracted with tweepy had an erroneous format: 'like_count', 'quote_count', 'reply_count', 'retweet_count' and 'tweet_id'.\n",
    "   \n",
    "    Solution -> I changed the data type of the columns with astype method.\n",
    "\n",
    "   9. There were 29 rows with only 'tweet_id' values ( NaN in the rest of the columns). This issue was solved in previous steps\n",
    "    \n",
    "\n",
    "\n",
    "\n"
   ]
  }
 ],
 "metadata": {
  "kernelspec": {
   "display_name": "Python 3",
   "language": "python",
   "name": "python3"
  },
  "language_info": {
   "codemirror_mode": {
    "name": "ipython",
    "version": 3
   },
   "file_extension": ".py",
   "mimetype": "text/x-python",
   "name": "python",
   "nbconvert_exporter": "python",
   "pygments_lexer": "ipython3",
   "version": "3.6.3"
  }
 },
 "nbformat": 4,
 "nbformat_minor": 2
}
